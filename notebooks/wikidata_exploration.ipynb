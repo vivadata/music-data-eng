{
 "cells": [
  {
   "cell_type": "code",
   "execution_count": 3,
   "id": "11f009c5",
   "metadata": {},
   "outputs": [
    {
     "data": {
      "text/html": [
       "<div>\n",
       "<style scoped>\n",
       "    .dataframe tbody tr th:only-of-type {\n",
       "        vertical-align: middle;\n",
       "    }\n",
       "\n",
       "    .dataframe tbody tr th {\n",
       "        vertical-align: top;\n",
       "    }\n",
       "\n",
       "    .dataframe thead th {\n",
       "        text-align: right;\n",
       "    }\n",
       "</style>\n",
       "<table border=\"1\" class=\"dataframe\">\n",
       "  <thead>\n",
       "    <tr style=\"text-align: right;\">\n",
       "      <th></th>\n",
       "      <th>label</th>\n",
       "      <th>wikidata</th>\n",
       "      <th>deezer</th>\n",
       "      <th>spotify</th>\n",
       "      <th>youtube</th>\n",
       "    </tr>\n",
       "  </thead>\n",
       "  <tbody>\n",
       "    <tr>\n",
       "      <th>0</th>\n",
       "      <td>Ella Fitzgerald</td>\n",
       "      <td>http://www.wikidata.org/entity/Q1768</td>\n",
       "      <td>3280</td>\n",
       "      <td>5V0MlUE1Bft0mbLlND7FJz</td>\n",
       "      <td>UC63nGmKVdVhiZr_bWhJVGGg</td>\n",
       "    </tr>\n",
       "    <tr>\n",
       "      <th>1</th>\n",
       "      <td>Q2831</td>\n",
       "      <td>http://www.wikidata.org/entity/Q2831</td>\n",
       "      <td>259</td>\n",
       "      <td>3fMbdgg4jU18AjLCKBhRSm</td>\n",
       "      <td>UC5OrDvL9DscpcAstz7JnQGA</td>\n",
       "    </tr>\n",
       "    <tr>\n",
       "      <th>2</th>\n",
       "      <td>O-Zone</td>\n",
       "      <td>http://www.wikidata.org/entity/Q4562</td>\n",
       "      <td>22</td>\n",
       "      <td>5M5PjPSiKeXynM6Ohu350r</td>\n",
       "      <td>UCqtN1Za8PlGegygC2t0C0GA</td>\n",
       "    </tr>\n",
       "    <tr>\n",
       "      <th>3</th>\n",
       "      <td>O-Zone</td>\n",
       "      <td>http://www.wikidata.org/entity/Q4562</td>\n",
       "      <td>22</td>\n",
       "      <td>5M5PjPSiKeXynM6Ohu350r</td>\n",
       "      <td>UCMLsQRDF0nC-i7fJib5QNjA</td>\n",
       "    </tr>\n",
       "    <tr>\n",
       "      <th>4</th>\n",
       "      <td>Céline Dion</td>\n",
       "      <td>http://www.wikidata.org/entity/Q5105</td>\n",
       "      <td>198</td>\n",
       "      <td>4S9EykWXhStSc15wEx8QFK</td>\n",
       "      <td>UCh6C5LG14uZKmwCgGxf-nDQ</td>\n",
       "    </tr>\n",
       "  </tbody>\n",
       "</table>\n",
       "</div>"
      ],
      "text/plain": [
       "             label                              wikidata deezer  \\\n",
       "0  Ella Fitzgerald  http://www.wikidata.org/entity/Q1768   3280   \n",
       "1            Q2831  http://www.wikidata.org/entity/Q2831    259   \n",
       "2           O-Zone  http://www.wikidata.org/entity/Q4562     22   \n",
       "3           O-Zone  http://www.wikidata.org/entity/Q4562     22   \n",
       "4      Céline Dion  http://www.wikidata.org/entity/Q5105    198   \n",
       "\n",
       "                  spotify                   youtube  \n",
       "0  5V0MlUE1Bft0mbLlND7FJz  UC63nGmKVdVhiZr_bWhJVGGg  \n",
       "1  3fMbdgg4jU18AjLCKBhRSm  UC5OrDvL9DscpcAstz7JnQGA  \n",
       "2  5M5PjPSiKeXynM6Ohu350r  UCqtN1Za8PlGegygC2t0C0GA  \n",
       "3  5M5PjPSiKeXynM6Ohu350r  UCMLsQRDF0nC-i7fJib5QNjA  \n",
       "4  4S9EykWXhStSc15wEx8QFK  UCh6C5LG14uZKmwCgGxf-nDQ  "
      ]
     },
     "execution_count": 3,
     "metadata": {},
     "output_type": "execute_result"
    }
   ],
   "source": [
    "import pandas as pd\n",
    "\n",
    "path = \"../data/wikidata_deezer_spotify_youtube.csv\"\n",
    "df = pd.read_csv(path)\n",
    "df.head(5)"
   ]
  },
  {
   "cell_type": "code",
   "execution_count": 2,
   "id": "c3c84bf3",
   "metadata": {},
   "outputs": [
    {
     "data": {
      "text/html": [
       "<div>\n",
       "<style scoped>\n",
       "    .dataframe tbody tr th:only-of-type {\n",
       "        vertical-align: middle;\n",
       "    }\n",
       "\n",
       "    .dataframe tbody tr th {\n",
       "        vertical-align: top;\n",
       "    }\n",
       "\n",
       "    .dataframe thead th {\n",
       "        text-align: right;\n",
       "    }\n",
       "</style>\n",
       "<table border=\"1\" class=\"dataframe\">\n",
       "  <thead>\n",
       "    <tr style=\"text-align: right;\">\n",
       "      <th></th>\n",
       "      <th>label</th>\n",
       "      <th>wikidata</th>\n",
       "      <th>deezer</th>\n",
       "      <th>spotify</th>\n",
       "      <th>youtube</th>\n",
       "    </tr>\n",
       "  </thead>\n",
       "  <tbody>\n",
       "    <tr>\n",
       "      <th>count</th>\n",
       "      <td>37226</td>\n",
       "      <td>37226</td>\n",
       "      <td>37226</td>\n",
       "      <td>32391</td>\n",
       "      <td>19496</td>\n",
       "    </tr>\n",
       "    <tr>\n",
       "      <th>unique</th>\n",
       "      <td>31924</td>\n",
       "      <td>32011</td>\n",
       "      <td>32780</td>\n",
       "      <td>28231</td>\n",
       "      <td>17395</td>\n",
       "    </tr>\n",
       "    <tr>\n",
       "      <th>top</th>\n",
       "      <td>Camerata Orchestre</td>\n",
       "      <td>http://www.wikidata.org/entity/Q61959089</td>\n",
       "      <td>5080</td>\n",
       "      <td>3huVQoEWdqUTvlYpFVUHcF</td>\n",
       "      <td>UCEnDTrc82S5N76hXAcza0tg</td>\n",
       "    </tr>\n",
       "    <tr>\n",
       "      <th>freq</th>\n",
       "      <td>210</td>\n",
       "      <td>210</td>\n",
       "      <td>72</td>\n",
       "      <td>72</td>\n",
       "      <td>42</td>\n",
       "    </tr>\n",
       "  </tbody>\n",
       "</table>\n",
       "</div>"
      ],
      "text/plain": [
       "                     label                                  wikidata deezer  \\\n",
       "count                37226                                     37226  37226   \n",
       "unique               31924                                     32011  32780   \n",
       "top     Camerata Orchestre  http://www.wikidata.org/entity/Q61959089   5080   \n",
       "freq                   210                                       210     72   \n",
       "\n",
       "                       spotify                   youtube  \n",
       "count                    32391                     19496  \n",
       "unique                   28231                     17395  \n",
       "top     3huVQoEWdqUTvlYpFVUHcF  UCEnDTrc82S5N76hXAcza0tg  \n",
       "freq                        72                        42  "
      ]
     },
     "execution_count": 2,
     "metadata": {},
     "output_type": "execute_result"
    }
   ],
   "source": [
    "df.describe()"
   ]
  },
  {
   "cell_type": "code",
   "execution_count": 4,
   "id": "80ac651f",
   "metadata": {},
   "outputs": [
    {
     "name": "stdout",
     "output_type": "stream",
     "text": [
      "<class 'pandas.core.frame.DataFrame'>\n",
      "RangeIndex: 37226 entries, 0 to 37225\n",
      "Data columns (total 5 columns):\n",
      " #   Column    Non-Null Count  Dtype \n",
      "---  ------    --------------  ----- \n",
      " 0   label     37226 non-null  object\n",
      " 1   wikidata  37226 non-null  object\n",
      " 2   deezer    37226 non-null  object\n",
      " 3   spotify   32391 non-null  object\n",
      " 4   youtube   19496 non-null  object\n",
      "dtypes: object(5)\n",
      "memory usage: 1.4+ MB\n"
     ]
    }
   ],
   "source": [
    "df.info()"
   ]
  }
 ],
 "metadata": {
  "kernelspec": {
   "display_name": "music-env",
   "language": "python",
   "name": "python3"
  },
  "language_info": {
   "codemirror_mode": {
    "name": "ipython",
    "version": 3
   },
   "file_extension": ".py",
   "mimetype": "text/x-python",
   "name": "python",
   "nbconvert_exporter": "python",
   "pygments_lexer": "ipython3",
   "version": "3.10.12"
  }
 },
 "nbformat": 4,
 "nbformat_minor": 5
}
