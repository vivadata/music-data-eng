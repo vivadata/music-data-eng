{
 "cells": [
  {
   "cell_type": "markdown",
   "id": "1b464889",
   "metadata": {},
   "source": [
    "Spotify for Developers/ Getting Started\n",
    "documentation: https://developer.spotify.com/documentation/web-api \n",
    "\n",
    "- Log into dashboard using Spotify account (Facebook login for me) https://developer.spotify.com/dashboard\n",
    "- Accept Spotify Developer Terms of Service. \n",
    "- Create app and select Web API\n",
    "    App name: music data app https://developer.spotify.com/dashboard/ee238904262343b7abfe5e34204d3106 \n",
    "    App description: data eng project app\n",
    "    App Status: Development mode\n"
   ]
  },
  {
   "cell_type": "code",
   "execution_count": null,
   "id": "01822e8b",
   "metadata": {},
   "outputs": [
    {
     "name": "stdout",
     "output_type": "stream",
     "text": [
      "200\n",
      "{'access_token': 'BQCJKDvmJMUhstFoMgb_dfDmyqzDasFmLPKhsE7xBPUWmCHH1SMJE0K1KQv4qaqpkzYwpR8V0vHOKBg-5HWKbSyAVlgIULLtZcAC0bvDxj7aSc7QJaA9LH3iJhJOfeMD-5kW4E5jBUE', 'token_type': 'Bearer', 'expires_in': 3600}\n",
      "BQCJKDvmJMUhstFoMgb_dfDmyqzDasFmLPKhsE7xBPUWmCHH1S...\n"
     ]
    }
   ],
   "source": [
    "## Get access token\n",
    "import requests\n",
    "import base64\n",
    "\n",
    "client_id = \"xx\"\n",
    "client_secret = \"xx\"\n",
    "\n",
    "# Encode client credentials\n",
    "auth_str = f\"{client_id}:{client_secret}\"\n",
    "b64_auth_str = base64.b64encode(auth_str.encode()).decode()\n",
    "\n",
    "# Request token\n",
    "token_url = \"https://accounts.spotify.com/api/token\"\n",
    "response = requests.post(\n",
    "    token_url,\n",
    "    data={\"grant_type\": \"client_credentials\"},\n",
    "    headers={\"Authorization\": f\"Basic {b64_auth_str}\"}\n",
    ")\n",
    "\n",
    "print(response.status_code)\n",
    "print(response.json())\n",
    "\n",
    "token = response.json()[\"access_token\"]\n",
    "print(token[:50] + \"...\")  # preview first chars\n"
   ]
  },
  {
   "cell_type": "code",
   "execution_count": null,
   "id": "8763a036",
   "metadata": {},
   "outputs": [],
   "source": [
    "## Call API (Add token to headers)\n",
    "headers = {\"Authorization\": f\"Bearer {token}\"}\n",
    "\n",
    "# Example: search for tracks\n",
    "search_url = \"https://api.spotify.com/v1/search\"\n",
    "params = {\"q\": \"Daft Punk\", \"type\": \"track\", \"limit\": 5}\n",
    "\n",
    "res = requests.get(search_url, headers=headers, params=params)\n",
    "data = res.json()\n"
   ]
  },
  {
   "cell_type": "code",
   "execution_count": 9,
   "id": "06302cc8",
   "metadata": {},
   "outputs": [
    {
     "name": "stdout",
     "output_type": "stream",
     "text": [
      "Veridis Quo – Daft Punk\n",
      "One More Time – Daft Punk\n",
      "Get Lucky (feat. Pharrell Williams and Nile Rodgers) – Daft Punk\n",
      "Starboy – The Weeknd\n"
     ]
    }
   ],
   "source": [
    "## Preview results\n",
    "for track in data[\"tracks\"][\"items\"]:\n",
    "    print(track[\"name\"], \"–\", track[\"artists\"][0][\"name\"])\n"
   ]
  },
  {
   "cell_type": "code",
   "execution_count": null,
   "id": "116ec5d9",
   "metadata": {},
   "outputs": [
    {
     "name": "stdout",
     "output_type": "stream",
     "text": [
      "Name: Daft Punk\n",
      "ID: 4tZwfgrHOc3mvqYlEYSvVi\n"
     ]
    }
   ],
   "source": [
    "# Search for an artist by name\n",
    "\n",
    "search_url = \"https://api.spotify.com/v1/search\"\n",
    "params = {\"q\": \"Daft Punk\", \"type\": \"artist\", \"limit\": 1}\n",
    "\n",
    "res = requests.get(search_url, headers=headers, params=params)\n",
    "artist_data = res.json()\n",
    "artist = artist_data[\"artists\"][\"items\"][0]\n",
    "\n",
    "print(\"Name:\", artist[\"name\"])\n",
    "print(\"ID:\", artist[\"id\"])\n",
    "\n"
   ]
  },
  {
   "cell_type": "code",
   "execution_count": null,
   "id": "0ed4178d",
   "metadata": {},
   "outputs": [
    {
     "name": "stdout",
     "output_type": "stream",
     "text": [
      "Name: Daft Punk\n",
      "Genres: ['french house', 'electronic', 'electro']\n",
      "Followers: 10711086\n"
     ]
    }
   ],
   "source": [
    "# Get artist details\n",
    "\n",
    "artist_id = artist[\"id\"]\n",
    "url = f\"https://api.spotify.com/v1/artists/{artist_id}\"\n",
    "\n",
    "res = requests.get(url, headers=headers)\n",
    "artist_info = res.json()\n",
    "\n",
    "print(\"Name:\", artist_info[\"name\"])\n",
    "print(\"Genres:\", artist_info[\"genres\"])\n",
    "print(\"Followers:\", artist_info[\"followers\"][\"total\"])\n"
   ]
  },
  {
   "cell_type": "code",
   "execution_count": null,
   "id": "32086ea8",
   "metadata": {},
   "outputs": [
    {
     "name": "stdout",
     "output_type": "stream",
     "text": [
      "Get Lucky (Radio Edit) [feat. Pharrell Williams and Nile Rodgers] - Get Lucky (Radio Edit) [feat. Pharrell Williams and Nile Rodgers]\n",
      "One More Time - Discovery\n",
      "Instant Crush (feat. Julian Casablancas) - Random Access Memories\n",
      "Get Lucky (feat. Pharrell Williams and Nile Rodgers) - Random Access Memories\n",
      "Around the World - Homework\n",
      "Harder, Better, Faster, Stronger - Discovery\n",
      "Something About Us - Discovery\n",
      "Veridis Quo - Discovery\n",
      "Lose Yourself to Dance (feat. Pharrell Williams) - Random Access Memories\n",
      "Digital Love - Discovery\n"
     ]
    }
   ],
   "source": [
    "# Get artist's top tracks\n",
    "url = f\"https://api.spotify.com/v1/artists/{artist_id}/top-tracks\"\n",
    "params = {\"market\": \"US\"}  # required param\n",
    "\n",
    "res = requests.get(url, headers=headers, params=params)\n",
    "top_tracks = res.json()\n",
    "\n",
    "for t in top_tracks[\"tracks\"]:\n",
    "    print(t[\"name\"], \"-\", t[\"album\"][\"name\"])\n"
   ]
  },
  {
   "cell_type": "code",
   "execution_count": null,
   "id": "4cd41ad7",
   "metadata": {},
   "outputs": [],
   "source": [
    "## Spotify API Helper with Auto Token Refresh\n",
    "import requests\n",
    "import base64\n",
    "import time\n",
    "\n",
    "class SpotifyClient:\n",
    "    def __init__(self, client_id, client_secret):\n",
    "        self.client_id = client_id\n",
    "        self.client_secret = client_secret\n",
    "        self.token = None\n",
    "        self.token_expires = 0  # epoch time\n",
    "\n",
    "    def _get_token(self):\n",
    "        \"\"\"Request a new token from Spotify\"\"\"\n",
    "        auth_str = f\"{self.client_id}:{self.client_secret}\"\n",
    "        b64_auth_str = base64.b64encode(auth_str.encode()).decode()\n",
    "\n",
    "        token_url = \"https://accounts.spotify.com/api/token\"\n",
    "        response = requests.post(\n",
    "            token_url,\n",
    "            data={\"grant_type\": \"client_credentials\"},\n",
    "            headers={\n",
    "                \"Authorization\": f\"Basic {b64_auth_str}\",\n",
    "                \"Content-Type\": \"application/x-www-form-urlencoded\"\n",
    "            }\n",
    "        )\n",
    "        response.raise_for_status()\n",
    "        token_data = response.json()\n",
    "        \n",
    "        # Save token + expiry\n",
    "        self.token = token_data[\"access_token\"]\n",
    "        self.token_expires = int(time.time()) + token_data[\"expires_in\"] - 60  # 1 min safety margin\n",
    "\n",
    "    def _ensure_token(self):\n",
    "        \"\"\"Refresh the token if expired\"\"\"\n",
    "        if self.token is None or time.time() >= self.token_expires:\n",
    "            self._get_token()\n",
    "\n",
    "    def get(self, endpoint, params=None):\n",
    "        \"\"\"Call Spotify API with auto-refresh token\"\"\"\n",
    "        self._ensure_token()\n",
    "        url = f\"https://api.spotify.com/v1/{endpoint}\"\n",
    "        headers = {\"Authorization\": f\"Bearer {self.token}\"}\n",
    "        response = requests.get(url, headers=headers, params=params)\n",
    "        response.raise_for_status()\n",
    "        return response.json()\n",
    "\n",
    "## Usage Example\n",
    "\n",
    "# Create client\n",
    "sp = SpotifyClient(\"YOUR_CLIENT_ID\", \"YOUR_CLIENT_SECRET\")\n",
    "\n",
    "# Example: search for tracks\n",
    "data = sp.get(\"search\", params={\"q\": \"Daft Punk\", \"type\": \"track\", \"limit\": 5})\n",
    "\n",
    "for track in data[\"tracks\"][\"items\"]:\n",
    "    print(track[\"name\"], \"–\", track[\"artists\"][0][\"name\"])\n",
    "\n"
   ]
  }
 ],
 "metadata": {
  "kernelspec": {
   "display_name": "music-env",
   "language": "python",
   "name": "python3"
  },
  "language_info": {
   "codemirror_mode": {
    "name": "ipython",
    "version": 3
   },
   "file_extension": ".py",
   "mimetype": "text/x-python",
   "name": "python",
   "nbconvert_exporter": "python",
   "pygments_lexer": "ipython3",
   "version": "3.10.12"
  }
 },
 "nbformat": 4,
 "nbformat_minor": 5
}
